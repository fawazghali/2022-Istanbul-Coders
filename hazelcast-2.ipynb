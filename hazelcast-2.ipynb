{
 "cells": [
  {
   "cell_type": "code",
   "execution_count": 1,
   "id": "825b0c4d-b1df-469c-97cc-581cf2f6dbce",
   "metadata": {},
   "outputs": [
    {
     "data": {
      "application/vnd.jupyter.widget-view+json": {
       "model_id": "68dacfbe4e584631b8cfafa6a910f1af",
       "version_major": 2,
       "version_minor": 0
      },
      "text/plain": [
       "PerspectiveWidget(columns=['stock', 'sold', 'bought', 'change'], group_by=['stock'], server=True, sort=[['chan…"
      ]
     },
     "metadata": {},
     "output_type": "display_data"
    }
   ],
   "source": [
    "import dataclasses\n",
    "import random\n",
    "from random import randint\n",
    "import decimal\n",
    "\n",
    "import perspective\n",
    "from perspective import Table, PerspectiveWidget\n",
    "import pandas as pd\n",
    "\n",
    "\n",
    "from hazelcast import HazelcastClient\n",
    "from hazelcast.serialization.api import (\n",
    "    CompactSerializer,\n",
    "    CompactWriter,\n",
    "    CompactReader,\n",
    ")\n",
    "\n",
    "\n",
    "@dataclasses.dataclass\n",
    "class Portfolio:\n",
    "    stock: str\n",
    "    sold: int\n",
    "    bought: int\n",
    "    change: int\n",
    "\n",
    "\n",
    "class PortfolioSerializer(CompactSerializer[Portfolio]):\n",
    "    def read(self, reader: CompactReader):\n",
    "        stock = reader.read_string(\"stock\")\n",
    "        sold = reader.read_int32(\"sold\")\n",
    "        bought = reader.read_int32(\"bought\")\n",
    "        change = reader.read_int32(\"change\")\n",
    "        \n",
    "        return Portfolio(stock, sold,bought, change)\n",
    "\n",
    "    def write(self, writer: CompactWriter, obj: Portfolio):\n",
    "        writer.write_string(\"stock\", obj.stock)\n",
    "        writer.write_int32(\"sold\", obj.sold)\n",
    "        writer.write_int32(\"bought\", obj.bought)\n",
    "        writer.write_int32(\"change\", obj.change)\n",
    "\n",
    "    def get_type_name(self):\n",
    "        return \"Portfolio\"\n",
    "\n",
    "    def get_class(self):\n",
    "        return Portfolio\n",
    "\n",
    "client = HazelcastClient(compact_serializers=[PortfolioSerializer()])\n",
    "\n",
    "client.sql.execute(\n",
    "    \"\"\"\n",
    "CREATE MAPPING IF NOT EXISTS portfolios (\n",
    "    __key INT,\n",
    "    stock VARCHAR,\n",
    "    sold INT,\n",
    "    bought INT,\n",
    "    change INT\n",
    ")\n",
    "TYPE IMap\n",
    "OPTIONS (\n",
    "    'keyFormat' = 'int',\n",
    "    'valueFormat' = 'compact',\n",
    "    'valueCompactTypeName' = 'Portfolio'\n",
    ")\n",
    "\"\"\"\n",
    ").result()\n",
    "\n",
    "portfolios = client.get_map(\"portfolios\").blocking()\n",
    "stock_list = ['AAPL', 'MSFT', 'GOOG', 'JPM', 'IBM','TPL',\n",
    "              'NDP', 'PBA', 'ESTE', 'DWAC', 'IBA','MTRN',\n",
    "              'LPI', 'CVX', 'EOG', 'GHC', 'FRPT','EXPD',]\n",
    "\n",
    "\n",
    "def data_source():\n",
    "    d = [] \n",
    "    for x in range(20):\n",
    "        sold= randint(-10, 0)\n",
    "        bought= randint(0, 10)\n",
    "        portfolios.set(x, Portfolio(random.choice(stock_list),sold, bought, (bought-sold)))\n",
    "    with client.sql.execute(\"SELECT * FROM portfolios\").result() as rows:\n",
    "        for row in rows:\n",
    "            d.append(\n",
    "            {\n",
    "                'stock': row['stock'],\n",
    "                'sold': row['sold'],\n",
    "                'bought': row['bought'],\n",
    "                'change': row['change']\n",
    "            }\n",
    "            )\n",
    "    return d\n",
    "\n",
    "\n",
    "\n",
    "streaming_table = Table(data_source())\n",
    "\n",
    "\n",
    "widget = perspective.PerspectiveWidget(streaming_table, \n",
    "                                       server=True, \n",
    "                                       plugin=\"Datagrid\", \n",
    "                                       group_by=[\"stock\"],\n",
    "                                       sort=[[\"change\", \"desc\"]],\n",
    "                                       theme=\"Material Dark\"\n",
    "                                      )\n",
    "widget\n",
    "\n",
    "\n"
   ]
  },
  {
   "cell_type": "code",
   "execution_count": 2,
   "id": "43724010-256b-4384-ba3f-313ffe2f958e",
   "metadata": {},
   "outputs": [],
   "source": [
    "import asyncio\n",
    "import threading\n",
    "\n",
    "async def _update():\n",
    "    while True:\n",
    "        streaming_table.update(data_source())\n",
    "        await asyncio.sleep(0.05)\n",
    "        \n",
    "def update_table():\n",
    "    loop = asyncio.new_event_loop()\n",
    "    task = loop.create_task(_update())\n",
    "    loop.call_later(60, task.cancel)\n",
    "    \n",
    "    try:\n",
    "        loop.run_until_complete(task)\n",
    "    except asyncio.CancelledError:\n",
    "        print(\"Stopped streaming!\")\n",
    "        pass\n",
    "\n"
   ]
  },
  {
   "cell_type": "code",
   "execution_count": 3,
   "id": "d1bb6c74-5f0b-45bf-94c8-0a35b907f983",
   "metadata": {},
   "outputs": [],
   "source": [
    "thread = threading.Thread(target=update_table)\n",
    "thread.start()"
   ]
  },
  {
   "cell_type": "code",
   "execution_count": null,
   "id": "dac0894b-3ec1-4a03-a72c-74fdedf34e33",
   "metadata": {},
   "outputs": [],
   "source": [
    "#thread.join()\n"
   ]
  },
  {
   "cell_type": "code",
   "execution_count": null,
   "id": "4f5e0ac2-9b45-4c3f-97a2-3940614a1878",
   "metadata": {},
   "outputs": [],
   "source": [
    "\n"
   ]
  },
  {
   "cell_type": "code",
   "execution_count": null,
   "id": "44023295-cdef-44cc-98ca-2fbb4557428a",
   "metadata": {},
   "outputs": [],
   "source": []
  }
 ],
 "metadata": {
  "kernelspec": {
   "display_name": "Python 3 (ipykernel)",
   "language": "python",
   "name": "python3"
  },
  "language_info": {
   "codemirror_mode": {
    "name": "ipython",
    "version": 3
   },
   "file_extension": ".py",
   "mimetype": "text/x-python",
   "name": "python",
   "nbconvert_exporter": "python",
   "pygments_lexer": "ipython3",
   "version": "3.9.12"
  }
 },
 "nbformat": 4,
 "nbformat_minor": 5
}
